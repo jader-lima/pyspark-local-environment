{
 "cells": [
  {
   "cell_type": "code",
   "execution_count": 1,
   "metadata": {},
   "outputs": [],
   "source": [
    "import sys\n",
    "import os\n",
    "\n",
    "from lib_confluent_kafka_python.KafkaAdmin import KafkaAdmin\n",
    "from lib_confluent_kafka_python.KafkaProducer import KafkaProducer\n",
    "\n"
   ]
  },
  {
   "cell_type": "code",
   "execution_count": 2,
   "metadata": {},
   "outputs": [],
   "source": [
    "broker = \"kafka:9092\"\n",
    "topic = \"sellers\"\n",
    "group_id = \"my_group\"\n",
    "protocol = ''\n",
    "mechanism = ''\n",
    "username = ''\n",
    "password = ''\n",
    "client_id = ''\n",
    "env = 'local'\n",
    "\n",
    "\n",
    "if env == \"local\":\n",
    "    config = {'bootstrap.servers': broker,\n",
    "            'socket.timeout.ms': 100,\n",
    "             'api.version.request': 'false',\n",
    "            'broker.version.fallback': '0.9.0'}\n",
    "else:\n",
    "    config = {'bootstrap.servers': broker,\n",
    "         'security.protocol': protocol,\n",
    "         'sasl.mechanism': mechanism,\n",
    "         'sasl.username': username,\n",
    "         'sasl.password': password,\n",
    "         'client.id': client_id}\n"
   ]
  },
  {
   "cell_type": "code",
   "execution_count": 3,
   "metadata": {},
   "outputs": [],
   "source": [
    "kafka_Admin = KafkaAdmin(config )\n"
   ]
  },
  {
   "cell_type": "code",
   "execution_count": 7,
   "metadata": {},
   "outputs": [],
   "source": [
    "topic_name = 'sellers'\n",
    "topic_list = []\n",
    "topic = kafka_Admin.createTopicElement(topic_name, 1 , 1)\n",
    "topic_list.append(topic)\n",
    "kafka_Admin.createTopictoKafka([topic]) "
   ]
  },
  {
   "cell_type": "code",
   "execution_count": 4,
   "metadata": {},
   "outputs": [
    {
     "data": {
      "text/plain": [
       "{'__consumer_offsets': TopicMetadata(__consumer_offsets, 50 partitions),\n",
       " 'test-topic': TopicMetadata(test-topic, 3 partitions)}"
      ]
     },
     "execution_count": 4,
     "metadata": {},
     "output_type": "execute_result"
    }
   ],
   "source": [
    "topicos = kafka_Admin.listKafkaTopics()\n",
    "topicos.topics\n"
   ]
  },
  {
   "cell_type": "code",
   "execution_count": 12,
   "metadata": {},
   "outputs": [],
   "source": [
    "kafka_Admin.deleteTopics([topic])"
   ]
  },
  {
   "cell_type": "code",
   "execution_count": 13,
   "metadata": {},
   "outputs": [
    {
     "data": {
      "text/plain": [
       "{'__consumer_offsets': TopicMetadata(__consumer_offsets, 50 partitions),\n",
       " 'test-topic': TopicMetadata(test-topic, 3 partitions)}"
      ]
     },
     "execution_count": 13,
     "metadata": {},
     "output_type": "execute_result"
    }
   ],
   "source": [
    "kafka_Admin.listKafkaTopics().topics"
   ]
  },
  {
   "cell_type": "code",
   "execution_count": null,
   "metadata": {},
   "outputs": [],
   "source": []
  },
  {
   "cell_type": "code",
   "execution_count": null,
   "metadata": {},
   "outputs": [],
   "source": []
  }
 ],
 "metadata": {
  "kernelspec": {
   "display_name": "Python 3",
   "language": "python",
   "name": "python3"
  },
  "language_info": {
   "codemirror_mode": {
    "name": "ipython",
    "version": 3
   },
   "file_extension": ".py",
   "mimetype": "text/x-python",
   "name": "python",
   "nbconvert_exporter": "python",
   "pygments_lexer": "ipython3",
   "version": "3.8.4"
  }
 },
 "nbformat": 4,
 "nbformat_minor": 4
}
