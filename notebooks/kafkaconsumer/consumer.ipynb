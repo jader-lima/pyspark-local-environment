{
 "cells": [
  {
   "cell_type": "code",
   "execution_count": null,
   "metadata": {},
   "outputs": [],
   "source": [
    "from time import sleep       \n",
    "import sys\n",
    "import os\n",
    "\n",
    "from lib_confluent_kafka_python.KafkaConsumer import KafkaConsumer"
   ]
  },
  {
   "cell_type": "code",
   "execution_count": null,
   "metadata": {},
   "outputs": [],
   "source": []
  },
  {
   "cell_type": "code",
   "execution_count": null,
   "metadata": {},
   "outputs": [],
   "source": [
    "\n",
    "broker = \"kafka:9092\"\n",
    "topic = \"sellers\"\n",
    "group_id = \"my_group\"\n",
    "protocol = ''\n",
    "mechanism = ''\n",
    "username = ''\n",
    "password = ''\n",
    "client_id = ''\n",
    "\n",
    "# \"auto.offset.reset\" : \"latest\" , \"largest\", \"earliest\"\n",
    "\n",
    "\n",
    "if os.getenv(\"ENV\")  == \"local\":\n",
    "    config = {\n",
    "        'bootstrap.servers': broker,\n",
    "        'group.id': group_id,\n",
    "        'socket.timeout.ms': 10000,\n",
    "        'api.version.request': 'true',\n",
    "        'broker.version.fallback': '0.10.0',\n",
    "        'enable.idempotence': 'true',\n",
    "        'auto.offset.reset': 'largest',\n",
    "        'enable.auto.commit': 'false',\n",
    "        'max.poll.interval.ms': '86400000'\n",
    "        }\n",
    "else:\n",
    "    consumer_config = {\n",
    "        'bootstrap.servers': broker,\n",
    "        'group.id': group_id,\n",
    "        'socket.timeout.ms': 10000,\n",
    "        'api.version.request': 'true',\n",
    "        'broker.version.fallback': '0.10.0',\n",
    "        'enable.idempotence': 'true',\n",
    "        'auto.offset.reset': 'largest',\n",
    "        'enable.auto.commit': 'false',\n",
    "        'max.poll.interval.ms': '86400000',\n",
    "        'security.protocol': protocol,\n",
    "        'sasl.mechanism': mechanism,\n",
    "        'sasl.username': username,\n",
    "        'sasl.password': password,\n",
    "        'client.id': client_id\n",
    "    }\n",
    "    \n",
    "  "
   ]
  },
  {
   "cell_type": "code",
   "execution_count": null,
   "metadata": {},
   "outputs": [],
   "source": [
    "kafkaConsumer = KafkaConsumer(config)\n",
    "consumer = kafkaConsumer.create_consumer()"
   ]
  },
  {
   "cell_type": "code",
   "execution_count": null,
   "metadata": {},
   "outputs": [],
   "source": [
    "consumer.subscribe([topic])\n",
    "\n",
    "try:\n",
    "    while True:\n",
    "        print(\"Listening\")\n",
    "        # read single message at a time\n",
    "\n",
    "        msg = consumer.poll(0)\n",
    "\n",
    "        if msg is None:\n",
    "            sleep(5)\n",
    "            continue\n",
    "        if msg.error():\n",
    "            print(\"Error reading message : {}\".format(msg.error()))\n",
    "            continue\n",
    "        # You can parse message and save to data base here\n",
    "        value = msg.value().decode('utf-8')\n",
    "        print(value)\n",
    "        consumer.commit()\n",
    "\n",
    "except Exception as ex:\n",
    "    print(\"Kafka Exception : {}\", ex)\n",
    "\n",
    "finally:\n",
    "    print(\"closing consumer\")\n",
    "    consumer.close()\n",
    "\n",
    "\n",
    "#my_consumer = ExampleConsumer()\n",
    "#my_consumer.start_listener()"
   ]
  },
  {
   "cell_type": "code",
   "execution_count": null,
   "metadata": {},
   "outputs": [],
   "source": []
  }
 ],
 "metadata": {
  "kernelspec": {
   "display_name": "Python 3",
   "language": "python",
   "name": "python3"
  },
  "language_info": {
   "codemirror_mode": {
    "name": "ipython",
    "version": 3
   },
   "file_extension": ".py",
   "mimetype": "text/x-python",
   "name": "python",
   "nbconvert_exporter": "python",
   "pygments_lexer": "ipython3",
   "version": "3.8.4"
  }
 },
 "nbformat": 4,
 "nbformat_minor": 5
}
