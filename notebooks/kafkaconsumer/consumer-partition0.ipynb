{
 "cells": [
  {
   "cell_type": "code",
   "execution_count": null,
   "metadata": {},
   "outputs": [],
   "source": [
    "from time import sleep       \n",
    "import sys\n",
    "import os\n",
    "\n",
    "from lib_confluent_kafka_python.KafkaConsumer import KafkaConsumer"
   ]
  },
  {
   "cell_type": "code",
   "execution_count": null,
   "metadata": {},
   "outputs": [],
   "source": [
    "from confluent_kafka import Consumer, TopicPartition\n"
   ]
  },
  {
   "cell_type": "code",
   "execution_count": null,
   "metadata": {},
   "outputs": [],
   "source": []
  },
  {
   "cell_type": "code",
   "execution_count": null,
   "metadata": {},
   "outputs": [],
   "source": [
    "\n",
    "broker = \"kafka:9092\"\n",
    "topic = \"sellers\"\n",
    "group_id = \"my_group\"\n",
    "\n",
    "# \"auto.offset.reset\" : \"latest\" , \"largest\", \"earliest\"\n",
    "\n",
    "config = {\n",
    "    'bootstrap.servers': broker,\n",
    "    'group.id': group_id,\n",
    "    'socket.timeout.ms': 10000,\n",
    "    'api.version.request': 'true',\n",
    "    'broker.version.fallback': '0.10.0',\n",
    "    'enable.idempotence': 'true',\n",
    "    'auto.offset.reset': 'latest',\n",
    "    'enable.auto.commit': 'false',  # Desabilita o auto-commit para controle manual\n",
    "    'max.poll.interval.ms': '86400000',\n",
    "    'partition.assignment.strategy': 'range'\n",
    "    }\n",
    "\n",
    "    \n",
    "  "
   ]
  },
  {
   "cell_type": "code",
   "execution_count": 4,
   "metadata": {},
   "outputs": [],
   "source": [
    "kafkaConsumer = KafkaConsumer(config)\n",
    "consumer = kafkaConsumer.create_consumer()"
   ]
  },
  {
   "cell_type": "code",
   "execution_count": 5,
   "metadata": {},
   "outputs": [],
   "source": [
    "def consume_messages(kafkaConsumer : KafkaConsumer, topic, partition=None):\n",
    "    if partition is not None:\n",
    "        consumer.assign([TopicPartition(topic, partition)])\n",
    "        print(f\"Assigned to partition {partition} of topic '{topic}'\")\n",
    "    else:\n",
    "        consumer.subscribe([topic])\n",
    "        print(f\"Subscribed to topic '{topic}'\")\n",
    "        \n",
    "    try:\n",
    "        while True:\n",
    "            print(\"Listening\")\n",
    "            # read single message at a time\n",
    "\n",
    "            msg = consumer.poll(0)\n",
    "\n",
    "            if msg is None:\n",
    "                sleep(5)\n",
    "                continue\n",
    "            if msg.error():\n",
    "                print(\"Error reading message : {}\".format(msg.error()))\n",
    "                continue\n",
    "            # You can parse message and save to data base here\n",
    "            value = msg.value().decode('utf-8')\n",
    "            print(value)\n",
    "            print(\"Partition:\", msg.partition(), \"Offset:\", msg.offset())\n",
    "            consumer.commit()\n",
    "\n",
    "    except Exception as ex:\n",
    "        print(\"Kafka Exception : {}\", ex)\n",
    "\n",
    "    finally:\n",
    "        print(\"closing consumer\")\n",
    "        consumer.close()\n"
   ]
  },
  {
   "cell_type": "code",
   "execution_count": 7,
   "metadata": {},
   "outputs": [
    {
     "name": "stdout",
     "output_type": "stream",
     "text": [
      "Subscribed to topic 'sellers'\n",
      "Listening\n",
      "Listening\n",
      "Listening\n",
      "Listening\n",
      "Listening\n",
      "Listening\n",
      "Listening\n",
      "Listening\n",
      "Listening\n",
      "Listening\n",
      "Listening\n",
      "Listening\n",
      "Listening\n",
      "Listening\n",
      "Listening\n",
      "Listening\n",
      "Listening\n",
      "{\"seller_id\":\"001cca7ae9ae17fb1caed9dfb1094853\",\"seller_zip_code_prefix\":\"29156\",\"seller_city\":\"cariacica\",\"seller_state\":\"SP\"}\n",
      "Partition: 1 Offset: 3\n",
      "Listening\n",
      "Listening\n",
      "Listening\n",
      "Listening\n",
      "Listening\n",
      "Listening\n",
      "Listening\n",
      "Listening\n",
      "Listening\n",
      "Listening\n",
      "Listening\n",
      "closing consumer\n"
     ]
    },
    {
     "ename": "KeyboardInterrupt",
     "evalue": "",
     "output_type": "error",
     "traceback": [
      "\u001b[0;31m---------------------------------------------------------------------------\u001b[0m",
      "\u001b[0;31mKeyboardInterrupt\u001b[0m                         Traceback (most recent call last)",
      "\u001b[0;32m<ipython-input-7-92e151990f84>\u001b[0m in \u001b[0;36m<module>\u001b[0;34m\u001b[0m\n\u001b[1;32m      2\u001b[0m \u001b[0mkafkaConsumer\u001b[0m \u001b[0;34m=\u001b[0m \u001b[0mKafkaConsumer\u001b[0m\u001b[0;34m(\u001b[0m\u001b[0mconfig\u001b[0m\u001b[0;34m)\u001b[0m\u001b[0;34m\u001b[0m\u001b[0;34m\u001b[0m\u001b[0m\n\u001b[1;32m      3\u001b[0m \u001b[0mconsumer\u001b[0m \u001b[0;34m=\u001b[0m \u001b[0mkafkaConsumer\u001b[0m\u001b[0;34m.\u001b[0m\u001b[0mcreate_consumer\u001b[0m\u001b[0;34m(\u001b[0m\u001b[0;34m)\u001b[0m\u001b[0;34m\u001b[0m\u001b[0;34m\u001b[0m\u001b[0m\n\u001b[0;32m----> 4\u001b[0;31m \u001b[0mconsume_messages\u001b[0m\u001b[0;34m(\u001b[0m\u001b[0mconsumer\u001b[0m\u001b[0;34m,\u001b[0m \u001b[0mtopic\u001b[0m\u001b[0;34m,\u001b[0m \u001b[0mpartition\u001b[0m\u001b[0;34m=\u001b[0m\u001b[0mpartition\u001b[0m\u001b[0;34m)\u001b[0m\u001b[0;34m\u001b[0m\u001b[0;34m\u001b[0m\u001b[0m\n\u001b[0m\u001b[1;32m      5\u001b[0m \u001b[0;34m\u001b[0m\u001b[0m\n\u001b[1;32m      6\u001b[0m \u001b[0;34m\u001b[0m\u001b[0m\n",
      "\u001b[0;32m<ipython-input-5-a2d2867f8ed1>\u001b[0m in \u001b[0;36mconsume_messages\u001b[0;34m(kafkaConsumer, topic, partition)\u001b[0m\n\u001b[1;32m     15\u001b[0m \u001b[0;34m\u001b[0m\u001b[0m\n\u001b[1;32m     16\u001b[0m             \u001b[0;32mif\u001b[0m \u001b[0mmsg\u001b[0m \u001b[0;32mis\u001b[0m \u001b[0;32mNone\u001b[0m\u001b[0;34m:\u001b[0m\u001b[0;34m\u001b[0m\u001b[0;34m\u001b[0m\u001b[0m\n\u001b[0;32m---> 17\u001b[0;31m                 \u001b[0msleep\u001b[0m\u001b[0;34m(\u001b[0m\u001b[0;36m5\u001b[0m\u001b[0;34m)\u001b[0m\u001b[0;34m\u001b[0m\u001b[0;34m\u001b[0m\u001b[0m\n\u001b[0m\u001b[1;32m     18\u001b[0m                 \u001b[0;32mcontinue\u001b[0m\u001b[0;34m\u001b[0m\u001b[0;34m\u001b[0m\u001b[0m\n\u001b[1;32m     19\u001b[0m             \u001b[0;32mif\u001b[0m \u001b[0mmsg\u001b[0m\u001b[0;34m.\u001b[0m\u001b[0merror\u001b[0m\u001b[0;34m(\u001b[0m\u001b[0;34m)\u001b[0m\u001b[0;34m:\u001b[0m\u001b[0;34m\u001b[0m\u001b[0;34m\u001b[0m\u001b[0m\n",
      "\u001b[0;31mKeyboardInterrupt\u001b[0m: "
     ]
    }
   ],
   "source": [
    "partition = None\n",
    "kafkaConsumer = KafkaConsumer(config)\n",
    "consumer = kafkaConsumer.create_consumer()\n",
    "consume_messages(consumer, topic, partition=partition)\n",
    "\n",
    "\n",
    "#my_consumer = ExampleConsumer()\n",
    "#my_consumer.start_listener()"
   ]
  },
  {
   "cell_type": "code",
   "execution_count": null,
   "metadata": {},
   "outputs": [],
   "source": []
  }
 ],
 "metadata": {
  "kernelspec": {
   "display_name": "Python 3",
   "language": "python",
   "name": "python3"
  },
  "language_info": {
   "codemirror_mode": {
    "name": "ipython",
    "version": 3
   },
   "file_extension": ".py",
   "mimetype": "text/x-python",
   "name": "python",
   "nbconvert_exporter": "python",
   "pygments_lexer": "ipython3",
   "version": "3.8.4"
  }
 },
 "nbformat": 4,
 "nbformat_minor": 5
}
