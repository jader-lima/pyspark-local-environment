{
 "cells": [
  {
   "cell_type": "code",
   "execution_count": 2,
   "metadata": {},
   "outputs": [],
   "source": [
    "import sys\n",
    "import os\n",
    "\n",
    "module_path = os.path.abspath('/mnt/py/modules/')\n",
    "if module_path not in sys.path:\n",
    "    sys.path.append(module_path)\n",
    "\n"
   ]
  },
  {
   "cell_type": "code",
   "execution_count": 3,
   "metadata": {},
   "outputs": [],
   "source": [
    "from KafkaAdmin import  KafkaAdmin\n",
    "from KafkaProducer import KafkaProducer\n"
   ]
  },
  {
   "cell_type": "code",
   "execution_count": 4,
   "metadata": {},
   "outputs": [],
   "source": [
    "broker = \"kafka:9092\"\n",
    "topic = \"sellers\"\n",
    "group_id = \"my_group\"\n",
    "protocol = ''\n",
    "mechanism = ''\n",
    "username = ''\n",
    "password = ''\n",
    "client_id = ''\n",
    "env = 'local'\n",
    "\n",
    "\n",
    "if env == \"local\":\n",
    "    config = {'bootstrap.servers': broker,\n",
    "            'socket.timeout.ms': 100,\n",
    "             'api.version.request': 'false',\n",
    "            'broker.version.fallback': '0.9.0'}\n",
    "else:\n",
    "    config = {'bootstrap.servers': broker,\n",
    "         'security.protocol': protocol,\n",
    "         'sasl.mechanism': mechanism,\n",
    "         'sasl.username': username,\n",
    "         'sasl.password': password,\n",
    "         'client.id': client_id}\n"
   ]
  },
  {
   "cell_type": "code",
   "execution_count": 5,
   "metadata": {},
   "outputs": [],
   "source": [
    "kafka_Admin = KafkaAdmin(config )\n"
   ]
  },
  {
   "cell_type": "code",
   "execution_count": 17,
   "metadata": {},
   "outputs": [],
   "source": [
    "topic_name = 'sellers'\n",
    "topic_list = []\n",
    "topic = kafka_Admin.createTopicElement(topic_name, 1 , 1)\n",
    "topic_list.append(topic)\n",
    "kafka_Admin.createTopictoKafka([topic]) "
   ]
  },
  {
   "cell_type": "code",
   "execution_count": 26,
   "metadata": {},
   "outputs": [
    {
     "data": {
      "text/plain": [
       "{'sellers': TopicMetadata(sellers, 1 partitions)}"
      ]
     },
     "execution_count": 26,
     "metadata": {},
     "output_type": "execute_result"
    }
   ],
   "source": [
    "topicos = kafka_Admin.listKafkaTopics()\n",
    "topicos.topics\n",
    "#topicos = kafka_Admin.deleteTopics(['topic'])"
   ]
  },
  {
   "cell_type": "code",
   "execution_count": 6,
   "metadata": {},
   "outputs": [],
   "source": [
    "\n",
    "kafkaProducer = KafkaProducer(config )"
   ]
  },
  {
   "cell_type": "code",
   "execution_count": 27,
   "metadata": {},
   "outputs": [
    {
     "name": "stdout",
     "output_type": "stream",
     "text": [
      "Send message asynchronously\n"
     ]
    }
   ],
   "source": [
    "message = '{\"seller_id\":\"001cca7ae9ae17fb1caed9dfb1094831\",\"seller_zip_code_prefix\":\"29156\",\"seller_city\":\"cariacica\",\"seller_state\":\"ES\"}'\n",
    "\n",
    "\n",
    "topic = \"sellers\"\n",
    "kafkaProducer.produce_message(topic, message)"
   ]
  },
  {
   "cell_type": "code",
   "execution_count": 9,
   "metadata": {},
   "outputs": [],
   "source": [
    "#message = '{\"InvoiceNumber\":\"91372973\",\"CreatedTime\":1595688901219,\"StoreID\":\"STR8513\",\"PosID\":\"POS163\",\"CashierID\":\"OAS961\",\"CustomerType\":\"PRIME\",\"CustomerCardNo\":\"2762345282\",\"TotalAmount\":8272.0,\"NumberOfItems\":4,\"PaymentMethod\":\"CARD\",\"TaxableAmount\":8272.0,\"CGST\":206.8,\"SGST\":206.8,\"CESS\":10.34,\"DeliveryType\":\"HOME-DELIVERY\",\"DeliveryAddress\":{\"AddressLine\":\"444-1842 Dui. Rd.\",\"City\":\"Shivapuri\",\"State\":\"Madhya Pradesh\",\"PinCode\":\"561012\",\"ContactNumber\":\"7243866404\"},\"InvoiceLineItems\":[{\"ItemCode\":\"413\",\"ItemDescription\":\"Slipcover\",\"ItemPrice\":1896.0,\"ItemQty\":1,\"TotalValue\":1896.0},{\"ItemCode\":\"483\",\"ItemDescription\":\"Teacups and saucers\",\"ItemPrice\":1781.0,\"ItemQty\":1,\"TotalValue\":1781.0},{\"ItemCode\":\"583\",\"ItemDescription\":\"Tab Top Curtains\",\"ItemPrice\":1329.0,\"ItemQty\":1,\"TotalValue\":1329.0},{\"ItemCode\":\"558\",\"ItemDescription\":\"Balloon clock\",\"ItemPrice\":1633.0,\"ItemQty\":2,\"TotalValue\":3266.0}]}'\n"
   ]
  },
  {
   "cell_type": "code",
   "execution_count": 7,
   "metadata": {},
   "outputs": [
    {
     "data": {
      "text/plain": [
       "{'consultor': TopicMetadata(consultor, 1 partitions),\n",
       " '__consumer_offsets': TopicMetadata(__consumer_offsets, 50 partitions)}"
      ]
     },
     "execution_count": 7,
     "metadata": {},
     "output_type": "execute_result"
    }
   ],
   "source": [
    "topicos = kafka_Admin.listKafkaTopics()\n",
    "topicos.topics"
   ]
  },
  {
   "cell_type": "code",
   "execution_count": 6,
   "metadata": {},
   "outputs": [],
   "source": [
    "topic_name = 'consultor'\n",
    "topic_list = []\n",
    "topic = kafka_Admin.createTopicElement(topic_name, 1 , 1)\n",
    "topic_list.append(topic)\n",
    "kafka_Admin.createTopictoKafka([topic]) "
   ]
  },
  {
   "cell_type": "code",
   "execution_count": 10,
   "metadata": {},
   "outputs": [
    {
     "name": "stdout",
     "output_type": "stream",
     "text": [
      "Send message asynchronously\n"
     ]
    }
   ],
   "source": [
    "message = '2,Dino da Silva;CONSULTOR;ATIVO,2022-01-01 10:00:00'\n",
    "\n",
    "\n",
    "topic = \"consultor\"\n",
    "kafkaProducer.produce_message(topic, message)"
   ]
  },
  {
   "cell_type": "code",
   "execution_count": null,
   "metadata": {},
   "outputs": [],
   "source": []
  },
  {
   "cell_type": "code",
   "execution_count": null,
   "metadata": {},
   "outputs": [],
   "source": []
  }
 ],
 "metadata": {
  "kernelspec": {
   "display_name": "Python 3",
   "language": "python",
   "name": "python3"
  },
  "language_info": {
   "codemirror_mode": {
    "name": "ipython",
    "version": 3
   },
   "file_extension": ".py",
   "mimetype": "text/x-python",
   "name": "python",
   "nbconvert_exporter": "python",
   "pygments_lexer": "ipython3",
   "version": "3.8.4"
  }
 },
 "nbformat": 4,
 "nbformat_minor": 4
}
