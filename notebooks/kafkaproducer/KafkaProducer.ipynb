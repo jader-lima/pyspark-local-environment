{
 "cells": [
  {
   "cell_type": "code",
   "execution_count": 1,
   "metadata": {},
   "outputs": [],
   "source": [
    "import sys\n",
    "import os\n",
    "\n",
    "from lib_confluent_kafka_python.KafkaAdmin import KafkaAdmin\n",
    "from lib_confluent_kafka_python.KafkaProducer import KafkaProducer\n",
    "\n"
   ]
  },
  {
   "cell_type": "code",
   "execution_count": 2,
   "metadata": {},
   "outputs": [],
   "source": [
    "broker = \"kafka:9092\"\n",
    "topic = \"sellers\"\n",
    "group_id = \"my_group\"\n",
    "\n",
    "\n",
    "\n",
    "config = {'bootstrap.servers': broker,\n",
    "        'socket.timeout.ms': 10000,\n",
    "        'api.version.request': 'true',\n",
    "        'broker.version.fallback': '0.10.0',\n",
    "        'enable.idempotence': 'true'  }\n",
    "\n"
   ]
  },
  {
   "cell_type": "code",
   "execution_count": 3,
   "metadata": {},
   "outputs": [],
   "source": [
    "kafka_Admin = KafkaAdmin(config )\n"
   ]
  },
  {
   "cell_type": "code",
   "execution_count": 4,
   "metadata": {},
   "outputs": [
    {
     "data": {
      "text/plain": [
       "{'sellers': TopicMetadata(sellers, 3 partitions),\n",
       " 'test-topic': TopicMetadata(test-topic, 1 partitions)}"
      ]
     },
     "execution_count": 4,
     "metadata": {},
     "output_type": "execute_result"
    }
   ],
   "source": [
    "topicos = kafka_Admin.listKafkaTopics()\n",
    "topicos.topics\n"
   ]
  },
  {
   "cell_type": "code",
   "execution_count": 5,
   "metadata": {},
   "outputs": [],
   "source": [
    "kafkaProducer = KafkaProducer(config )"
   ]
  },
  {
   "cell_type": "code",
   "execution_count": 15,
   "metadata": {},
   "outputs": [
    {
     "name": "stdout",
     "output_type": "stream",
     "text": [
      "Send message asynchronously\n"
     ]
    }
   ],
   "source": [
    "message = '{\"seller_id\":\"001cca7ae9ae17fb1caed9dfb1094839\",\"seller_zip_code_prefix\":\"29156\",\"seller_city\":\"cariacica\",\"seller_state\":\"SP\"}'\n",
    "\n",
    "\n",
    "topic = \"sellers\"\n",
    "kafkaProducer.produce_message(topic, msg=message, partition=0)"
   ]
  },
  {
   "cell_type": "code",
   "execution_count": 16,
   "metadata": {},
   "outputs": [
    {
     "name": "stdout",
     "output_type": "stream",
     "text": [
      "Send message asynchronously\n"
     ]
    }
   ],
   "source": [
    "message = '{\"seller_id\":\"001cca7ae9ae17fb1caed9dfb1094853\",\"seller_zip_code_prefix\":\"29156\",\"seller_city\":\"cariacica\",\"seller_state\":\"SP\"}'\n",
    "\n",
    "\n",
    "topic = \"sellers\"\n",
    "kafkaProducer.produce_message(topic, msg=message, partition=1)"
   ]
  },
  {
   "cell_type": "code",
   "execution_count": 17,
   "metadata": {},
   "outputs": [
    {
     "name": "stdout",
     "output_type": "stream",
     "text": [
      "Send message asynchronously\n"
     ]
    }
   ],
   "source": [
    "message = '{\"seller_id\":\"001cca7ae9ae17fb1caed9dfb1094833\",\"seller_zip_code_prefix\":\"29156\",\"seller_city\":\"cariacica\",\"seller_state\":\"SP\"}'\n",
    "\n",
    "\n",
    "topic = \"sellers\"\n",
    "kafkaProducer.produce_message(topic, msg=message, partition=2)"
   ]
  },
  {
   "cell_type": "code",
   "execution_count": null,
   "metadata": {},
   "outputs": [],
   "source": [
    "topicos = kafka_Admin.listKafkaTopics()\n",
    "topicos.topics"
   ]
  },
  {
   "cell_type": "code",
   "execution_count": null,
   "metadata": {},
   "outputs": [],
   "source": [
    "topic_name = 'consultor'\n",
    "topic_list = []\n",
    "topic = kafka_Admin.createTopicElement(topic_name, 1 , 1)\n",
    "topic_list.append(topic)\n",
    "kafka_Admin.createTopictoKafka([topic]) "
   ]
  },
  {
   "cell_type": "code",
   "execution_count": null,
   "metadata": {},
   "outputs": [],
   "source": [
    "message = '2,Dino da Silva;CONSULTOR;ATIVO,2022-01-01 10:00:00'\n",
    "\n",
    "\n",
    "topic = \"consultor\"\n",
    "kafkaProducer.produce_message(topic, message)"
   ]
  },
  {
   "cell_type": "code",
   "execution_count": null,
   "metadata": {},
   "outputs": [],
   "source": []
  },
  {
   "cell_type": "code",
   "execution_count": null,
   "metadata": {},
   "outputs": [],
   "source": []
  }
 ],
 "metadata": {
  "kernelspec": {
   "display_name": "Python 3",
   "language": "python",
   "name": "python3"
  },
  "language_info": {
   "codemirror_mode": {
    "name": "ipython",
    "version": 3
   },
   "file_extension": ".py",
   "mimetype": "text/x-python",
   "name": "python",
   "nbconvert_exporter": "python",
   "pygments_lexer": "ipython3",
   "version": "3.8.4"
  }
 },
 "nbformat": 4,
 "nbformat_minor": 4
}
