{
 "cells": [
  {
   "cell_type": "code",
   "execution_count": 1,
   "metadata": {},
   "outputs": [],
   "source": [
    "import sys\n",
    "import os\n",
    "\n",
    "from lib_confluent_kafka_python.KafkaAdmin import KafkaAdmin\n",
    "from lib_confluent_kafka_python.KafkaProducer import KafkaProducer\n",
    "\n"
   ]
  },
  {
   "cell_type": "code",
   "execution_count": 2,
   "metadata": {},
   "outputs": [],
   "source": [
    "broker = \"kafka:9092\"\n",
    "topic = \"sellers\"\n",
    "group_id = \"my_group\"\n",
    "protocol = ''\n",
    "mechanism = ''\n",
    "username = ''\n",
    "password = ''\n",
    "client_id = ''\n",
    "\n",
    "if os.getenv(\"ENV\")  == \"local\":\n",
    "    config = {'bootstrap.servers': broker,\n",
    "            'socket.timeout.ms': 10000,\n",
    "            'api.version.request': 'true',\n",
    "            'broker.version.fallback': '0.10.0',\n",
    "            'enable.idempotence': 'true'  }\n",
    "else:\n",
    "    config = {\n",
    "        'bootstrap.servers': broker,\n",
    "        'group.id': group_id,\n",
    "        'auto.offset.reset': 'largest',\n",
    "        'enable.auto.commit': 'false',\n",
    "        'max.poll.interval.ms': '86400000',\n",
    "        'security.protocol': protocol,\n",
    "        'sasl.mechanism': mechanism,\n",
    "        'sasl.username': username,\n",
    "        'sasl.password': password,\n",
    "        'client.id': client_id\n",
    "    }\n"
   ]
  },
  {
   "cell_type": "code",
   "execution_count": 4,
   "metadata": {},
   "outputs": [],
   "source": [
    "kafka_Admin = KafkaAdmin(config )\n"
   ]
  },
  {
   "cell_type": "code",
   "execution_count": 13,
   "metadata": {},
   "outputs": [
    {
     "data": {
      "text/plain": [
       "{'sellers': TopicMetadata(sellers, 3 partitions),\n",
       " '__consumer_offsets': TopicMetadata(__consumer_offsets, 50 partitions)}"
      ]
     },
     "execution_count": 13,
     "metadata": {},
     "output_type": "execute_result"
    }
   ],
   "source": [
    "topicos = kafka_Admin.listKafkaTopics()\n",
    "topicos.topics\n"
   ]
  },
  {
   "cell_type": "code",
   "execution_count": 14,
   "metadata": {},
   "outputs": [],
   "source": [
    "kafkaProducer = KafkaProducer(config )"
   ]
  },
  {
   "cell_type": "code",
   "execution_count": 22,
   "metadata": {},
   "outputs": [
    {
     "name": "stdout",
     "output_type": "stream",
     "text": [
      "Send message asynchronously\n"
     ]
    }
   ],
   "source": [
    "message = '{\"seller_id\":\"001cca7ae9ae17fb1caed9dfb1094837\",\"seller_zip_code_prefix\":\"29156\",\"seller_city\":\"cariacica\",\"seller_state\":\"SP\"}'\n",
    "\n",
    "\n",
    "topic = \"sellers\"\n",
    "kafkaProducer.produce_message(topic, message)"
   ]
  },
  {
   "cell_type": "code",
   "execution_count": 19,
   "metadata": {},
   "outputs": [
    {
     "data": {
      "text/plain": [
       "{'sellers': TopicMetadata(sellers, 3 partitions),\n",
       " '__consumer_offsets': TopicMetadata(__consumer_offsets, 50 partitions)}"
      ]
     },
     "execution_count": 19,
     "metadata": {},
     "output_type": "execute_result"
    }
   ],
   "source": [
    "topicos = kafka_Admin.listKafkaTopics()\n",
    "topicos.topics"
   ]
  },
  {
   "cell_type": "code",
   "execution_count": 6,
   "metadata": {},
   "outputs": [],
   "source": [
    "topic_name = 'consultor'\n",
    "topic_list = []\n",
    "topic = kafka_Admin.createTopicElement(topic_name, 1 , 1)\n",
    "topic_list.append(topic)\n",
    "kafka_Admin.createTopictoKafka([topic]) "
   ]
  },
  {
   "cell_type": "code",
   "execution_count": 10,
   "metadata": {},
   "outputs": [
    {
     "name": "stdout",
     "output_type": "stream",
     "text": [
      "Send message asynchronously\n"
     ]
    }
   ],
   "source": [
    "message = '2,Dino da Silva;CONSULTOR;ATIVO,2022-01-01 10:00:00'\n",
    "\n",
    "\n",
    "topic = \"consultor\"\n",
    "kafkaProducer.produce_message(topic, message)"
   ]
  },
  {
   "cell_type": "code",
   "execution_count": null,
   "metadata": {},
   "outputs": [],
   "source": []
  },
  {
   "cell_type": "code",
   "execution_count": null,
   "metadata": {},
   "outputs": [],
   "source": []
  }
 ],
 "metadata": {
  "kernelspec": {
   "display_name": "Python 3",
   "language": "python",
   "name": "python3"
  },
  "language_info": {
   "codemirror_mode": {
    "name": "ipython",
    "version": 3
   },
   "file_extension": ".py",
   "mimetype": "text/x-python",
   "name": "python",
   "nbconvert_exporter": "python",
   "pygments_lexer": "ipython3",
   "version": "3.8.4"
  }
 },
 "nbformat": 4,
 "nbformat_minor": 4
}
